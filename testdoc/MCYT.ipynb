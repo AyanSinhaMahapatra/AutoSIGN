{
 "cells": [
  {
   "cell_type": "code",
   "execution_count": 1,
   "metadata": {},
   "outputs": [],
   "source": [
    "def cmpr_feature_vect(feature_vector1,feature_vector2):\n",
    "    \n",
    "    dist = (abs(feature_vector1**2 - feature_vector2**2))**(0.5)\n",
    "\n",
    "    for idx, val in enumerate(dist):\n",
    "        if np.isnan(val):\n",
    "            dist[idx] = 0\n",
    "\n",
    "    dist = np.sum(dist)\n",
    "\n",
    "    return dist"
   ]
  },
  {
   "cell_type": "code",
   "execution_count": 2,
   "metadata": {},
   "outputs": [
    {
     "name": "stderr",
     "output_type": "stream",
     "text": [
      "/home/dunga/anaconda3/envs/AutoSIGN/lib/python2.7/site-packages/ipykernel_launcher.py:12: DeprecationWarning: the sets module is deprecated\n",
      "  if sys.path[0] == '':\n"
     ]
    }
   ],
   "source": [
    "from scipy.io import loadmat\n",
    "import os\n",
    "\n",
    "dataDir = \"/home/dunga/Desktop/AutoSIGN_Related_Stuff/test_train/mat_files_MYCT/\"\n",
    "mats = []\n",
    "strings = []\n",
    "for file in os.listdir( dataDir ) :\n",
    "    strings.append(str(file))\n",
    "    mats.append( loadmat( dataDir+file ) )\n",
    "    \n",
    "    \n",
    "from sets import Set\n",
    "\n",
    "string_set = Set()\n",
    "\n",
    "for string in strings:\n",
    "    #print(string)\n",
    "    string_set.add(string)"
   ]
  },
  {
   "cell_type": "code",
   "execution_count": 7,
   "metadata": {},
   "outputs": [],
   "source": [
    "from scipy.io import loadmat\n",
    "import numpy as np\n",
    "\n",
    "real_mat = np.zeros((119,15,2048))\n",
    "forg_mat = np.zeros((119,15,2048))\n",
    "\n",
    "for index in range(2,119):\n",
    "    \n",
    "    str_real = 'real'\n",
    "    str_forg = 'forg'\n",
    "\n",
    "    name_string = '{}_{}.mat'\n",
    "    real_name = name_string.format(str_real,index)\n",
    "    forg_name = name_string.format(str_forg,index)\n",
    "    \n",
    "    if real_name in string_set:\n",
    "        features_real = loadmat(dataDir+real_name)['features']\n",
    "        features_forg = loadmat(dataDir+forg_name)['features']\n",
    "        \n",
    "        real_mat[index] = features_real\n",
    "        forg_mat[index] = features_forg"
   ]
  },
  {
   "cell_type": "code",
   "execution_count": 8,
   "metadata": {},
   "outputs": [
    {
     "name": "stdout",
     "output_type": "stream",
     "text": [
      "2\n",
      "3\n",
      "5\n",
      "8\n",
      "10\n",
      "13\n",
      "14\n",
      "17\n",
      "18\n",
      "19\n",
      "20\n",
      "21\n",
      "23\n",
      "24\n",
      "26\n",
      "27\n",
      "29\n",
      "31\n",
      "32\n",
      "33\n",
      "35\n",
      "36\n",
      "37\n",
      "40\n",
      "44\n",
      "45\n",
      "46\n",
      "47\n",
      "48\n",
      "49\n",
      "50\n",
      "52\n",
      "54\n",
      "55\n",
      "57\n",
      "58\n",
      "60\n",
      "62\n",
      "63\n",
      "66\n",
      "67\n",
      "68\n",
      "72\n",
      "73\n",
      "74\n",
      "75\n",
      "76\n",
      "77\n",
      "78\n",
      "79\n",
      "80\n",
      "81\n",
      "87\n",
      "89\n",
      "92\n",
      "93\n",
      "96\n",
      "97\n",
      "98\n",
      "99\n",
      "100\n",
      "102\n",
      "105\n",
      "107\n",
      "108\n",
      "109\n",
      "111\n",
      "112\n",
      "113\n",
      "114\n",
      "115\n",
      "116\n",
      "117\n",
      "118\n"
     ]
    }
   ],
   "source": [
    "empty_array = np.zeros((1,2048))\n",
    "\n",
    "distance_forg = []\n",
    "\n",
    "for index in range(2,119):   \n",
    "    if (real_mat[index][1] != empty_array).any():\n",
    "        print(index)\n",
    "        for index_2 in range(1,15):\n",
    "            for index_3 in range(1,15):\n",
    "                    dist = cmpr_feature_vect(forg_mat[index][index_3],real_mat[index][index_2])\n",
    "                    distance_forg.append(dist)"
   ]
  },
  {
   "cell_type": "code",
   "execution_count": 9,
   "metadata": {},
   "outputs": [
    {
     "name": "stdout",
     "output_type": "stream",
     "text": [
      "2\n",
      "3\n",
      "5\n",
      "8\n",
      "10\n",
      "13\n",
      "14\n",
      "17\n",
      "18\n",
      "19\n",
      "20\n",
      "21\n",
      "23\n",
      "24\n",
      "26\n",
      "27\n",
      "29\n",
      "31\n",
      "32\n",
      "33\n",
      "35\n",
      "36\n",
      "37\n",
      "40\n",
      "44\n",
      "45\n",
      "46\n",
      "47\n",
      "48\n",
      "49\n",
      "50\n",
      "52\n",
      "54\n",
      "55\n",
      "57\n",
      "58\n",
      "60\n",
      "62\n",
      "63\n",
      "66\n",
      "67\n",
      "68\n",
      "72\n",
      "73\n",
      "74\n",
      "75\n",
      "76\n",
      "77\n",
      "78\n",
      "79\n",
      "80\n",
      "81\n",
      "87\n",
      "89\n",
      "92\n",
      "93\n",
      "96\n",
      "97\n",
      "98\n",
      "99\n",
      "100\n",
      "102\n",
      "105\n",
      "107\n",
      "108\n",
      "109\n",
      "111\n",
      "112\n",
      "113\n",
      "114\n",
      "115\n",
      "116\n",
      "117\n",
      "118\n"
     ]
    }
   ],
   "source": [
    "distance_same = []\n",
    "\n",
    "for index in range(2,119):\n",
    "    if (real_mat[index][1] != empty_array).any():\n",
    "        print(index)\n",
    "        for index_2 in range(1,15):\n",
    "            for index_3 in range(1,15):\n",
    "                if (index_2!=index_3):\n",
    "                    dist = cmpr_feature_vect(real_mat[index][index_3],real_mat[index][index_2])\n",
    "                    distance_same.append(dist)"
   ]
  },
  {
   "cell_type": "code",
   "execution_count": 11,
   "metadata": {},
   "outputs": [
    {
     "name": "stdout",
     "output_type": "stream",
     "text": [
      "2\n",
      "3\n",
      "5\n",
      "8\n",
      "10\n",
      "13\n",
      "14\n",
      "17\n",
      "18\n",
      "19\n",
      "20\n",
      "21\n",
      "23\n",
      "24\n",
      "26\n",
      "27\n",
      "29\n",
      "31\n",
      "32\n",
      "33\n",
      "35\n",
      "36\n",
      "37\n",
      "40\n",
      "44\n",
      "45\n",
      "46\n",
      "47\n",
      "48\n",
      "49\n",
      "50\n",
      "52\n",
      "54\n",
      "55\n",
      "57\n",
      "58\n",
      "60\n",
      "62\n",
      "63\n",
      "66\n",
      "67\n",
      "68\n",
      "72\n",
      "73\n",
      "74\n",
      "75\n",
      "76\n",
      "77\n",
      "78\n",
      "79\n",
      "80\n",
      "81\n",
      "87\n",
      "89\n",
      "92\n",
      "93\n",
      "96\n",
      "97\n",
      "98\n",
      "99\n",
      "100\n",
      "102\n",
      "105\n",
      "107\n",
      "108\n",
      "109\n",
      "111\n",
      "112\n",
      "113\n",
      "114\n",
      "115\n",
      "116\n",
      "117\n",
      "118\n"
     ]
    }
   ],
   "source": [
    "distance_diff = []\n",
    "\n",
    "for index in range(2,119):\n",
    "    if (real_mat[index][1] != empty_array).any():\n",
    "        print(index)\n",
    "        for index_2 in range(2,119):\n",
    "            if (real_mat[index_2][1] != empty_array).any():\n",
    "                if (index_2!=index):\n",
    "                    num = np.random.randint(1,14,2)\n",
    "                    dist = cmpr_feature_vect(real_mat[index][num[0]],real_mat[index_2][num[1]])\n",
    "                    distance_diff.append(dist)"
   ]
  },
  {
   "cell_type": "code",
   "execution_count": 12,
   "metadata": {},
   "outputs": [
    {
     "name": "stdout",
     "output_type": "stream",
     "text": [
      "1426.90957567\n",
      "0.0\n",
      "840.915104036\n",
      "129.256367933\n"
     ]
    }
   ],
   "source": [
    "np.shape(distance_same)\n",
    "dist_same = np.array(distance_same)\n",
    "print(dist_same.max())\n",
    "print(dist_same.min())\n",
    "print(dist_same.mean())\n",
    "print(dist_same.std())"
   ]
  },
  {
   "cell_type": "code",
   "execution_count": 13,
   "metadata": {},
   "outputs": [
    {
     "name": "stdout",
     "output_type": "stream",
     "text": [
      "1787.21085034\n",
      "666.679075577\n",
      "1087.20850121\n",
      "160.449404421\n"
     ]
    }
   ],
   "source": [
    "np.shape(distance_forg)\n",
    "dist_forg = np.array(distance_forg)\n",
    "print(dist_forg.max())\n",
    "print(dist_forg.min())\n",
    "print(dist_forg.mean())\n",
    "print(dist_forg.std())"
   ]
  },
  {
   "cell_type": "code",
   "execution_count": 14,
   "metadata": {},
   "outputs": [
    {
     "name": "stdout",
     "output_type": "stream",
     "text": [
      "1927.30106607\n",
      "866.162983312\n",
      "1309.69259405\n",
      "167.945644051\n"
     ]
    }
   ],
   "source": [
    "np.shape(distance_diff)\n",
    "dist_diff = np.array(distance_diff)\n",
    "print(dist_diff.max())\n",
    "print(dist_diff.min())\n",
    "print(dist_diff.mean())\n",
    "print(dist_diff.std())"
   ]
  },
  {
   "cell_type": "code",
   "execution_count": 20,
   "metadata": {},
   "outputs": [
    {
     "data": {
      "image/png": "[encoded data removed]",
      "text/plain": [
       "<matplotlib.figure.Figure at 0x7f8e2a675890>"
      ]
     },
     "metadata": {},
     "output_type": "display_data"
    }
   ],
   "source": [
    "import numpy\n",
    "import matplotlib.pyplot as plt\n",
    "import plotly.plotly as py\n",
    "\n",
    "histogram=plt.figure()\n",
    "\n",
    "bins = numpy.linspace(0, 2000, 100)\n",
    "\n",
    "plt.hist(dist_same, bins, alpha=0.5)\n",
    "plt.hist(dist_forg, bins, alpha=0.5)\n",
    "plt.hist(dist_diff, bins, alpha=0.5)\n",
    "plt.show()"
   ]
  },
  {
   "cell_type": "code",
   "execution_count": null,
   "metadata": {},
   "outputs": [],
   "source": []
  }
 ],
 "metadata": {
  "kernelspec": {
   "display_name": "Python 2",
   "language": "python",
   "name": "python2"
  },
  "language_info": {
   "codemirror_mode": {
    "name": "ipython",
    "version": 2
   },
   "file_extension": ".py",
   "mimetype": "text/x-python",
   "name": "python",
   "nbconvert_exporter": "python",
   "pygments_lexer": "ipython2",
   "version": "2.7.14"
  }
 },
 "nbformat": 4,
 "nbformat_minor": 2
}
